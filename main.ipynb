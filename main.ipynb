{
 "cells": [
  {
   "cell_type": "code",
   "execution_count": 11,
   "id": "7f7d120c",
   "metadata": {},
   "outputs": [],
   "source": [
    "from datetime import datetime, date, time, timedelta, timezone\n",
    "\n",
    "def midpoint_time(t1: time, t2: time) -> time:\n",
    "    # Pick an arbitrary reference date\n",
    "    ref = date(2000, 1, 1)\n",
    "\n",
    "    dt1 = datetime.combine(ref, t1)\n",
    "    # If t2 ≤ t1, roll t2 into the next day\n",
    "    dt2_date = ref if (t2 > t1) else ref + timedelta(days=1)\n",
    "    dt2 = datetime.combine(dt2_date, t2)\n",
    "\n",
    "    mid_dt = dt1 + (dt2 - dt1) / 2\n",
    "    return mid_dt.time()"
   ]
  },
  {
   "cell_type": "code",
   "execution_count": 8,
   "id": "6351b2b3",
   "metadata": {},
   "outputs": [
    {
     "name": "stdout",
     "output_type": "stream",
     "text": [
      "Midpoint time between 23:30:00 and 23:30:00 is 11:30:00\n"
     ]
    }
   ],
   "source": [
    "t1 = time(23, 30)\n",
    "t2 = time(23, 30)\n",
    "mid_time = midpoint_time(t1, t2)\n",
    "print(f\"Midpoint time between {t1} and {t2} is {mid_time}\")"
   ]
  },
  {
   "cell_type": "code",
   "execution_count": 58,
   "id": "06a1cf92",
   "metadata": {},
   "outputs": [],
   "source": [
    "# input data in local time zones\n",
    "\n",
    "tz1 = 5\n",
    "tz2 = 8\n",
    "\n",
    "tz1_sleep_start_ltz = time(23, 30, tzinfo=timezone(timedelta(hours=tz1)))\n",
    "tz1_sleep_stop_ltz = time(7, 30,tzinfo=timezone(timedelta(hours=tz1)))\n",
    "\n",
    "tz2_sleep_start_ltz = time(23, 30, tzinfo=timezone(timedelta(hours=tz2)))\n",
    "tz2_sleep_stop_ltz = time(7, 30, tzinfo=timezone(timedelta(hours=tz2)))\n",
    "\n",
    "travel_start_ltz = datetime(2025, 6, 1, 4, 30, tzinfo=timezone(timedelta(hours=tz1)))\n",
    "travel_stop_ltz = datetime(2025, 6, 2, 14, 30, tzinfo=timezone(timedelta(hours=tz2)))"
   ]
  },
  {
   "cell_type": "code",
   "execution_count": null,
   "id": "387b0dad",
   "metadata": {},
   "outputs": [
    {
     "name": "stdout",
     "output_type": "stream",
     "text": [
      "Travel start: 2025-05-31T23:30:00+00:00\n",
      "Travel stop:  2025-06-02T06:30:00+00:00\n"
     ]
    }
   ],
   "source": [
    "travel_start = travel_start_ltz.astimezone(timezone.utc)\n",
    "travel_stop = travel_stop_ltz.astimezone(timezone.utc)\n",
    "\n",
    "travel_window = (travel_stop, travel_stop)\n",
    "\n",
    "print(f\"Travel start: {travel_start.isoformat()}\")\n",
    "print(f\"Travel stop:  {travel_stop.isoformat()}\")"
   ]
  },
  {
   "cell_type": "code",
   "execution_count": 24,
   "id": "79f35fc7",
   "metadata": {},
   "outputs": [
    {
     "name": "stdout",
     "output_type": "stream",
     "text": [
      "Total travel time: 1 day, 7:00:00\n"
     ]
    }
   ],
   "source": [
    "total_travel_time = travel_stop - travel_start\n",
    "print(f\"Total travel time: {total_travel_time}\")"
   ]
  },
  {
   "cell_type": "code",
   "execution_count": 26,
   "id": "6fb43bd2",
   "metadata": {},
   "outputs": [
    {
     "name": "stdout",
     "output_type": "stream",
     "text": [
      "Start date in UTC: 2025-05-31\n"
     ]
    }
   ],
   "source": [
    "start_date = travel_start.date()\n",
    "print(f\"Start date in UTC: {start_date.isoformat()}\")"
   ]
  },
  {
   "cell_type": "code",
   "execution_count": 45,
   "id": "3acbe67d",
   "metadata": {},
   "outputs": [],
   "source": [
    "def sum_time_timedelta(t: time, delta: timedelta) -> time:\n",
    "    # Use a mid-range date so subtraction can't underflow\n",
    "    ref_date = date(2000, 1, 1)\n",
    "    dt = datetime.combine(ref_date, t) + delta\n",
    "    new_t = dt.time()\n",
    "    return new_t.replace(tzinfo=t.tzinfo) if t.tzinfo else new_t"
   ]
  },
  {
   "cell_type": "code",
   "execution_count": 46,
   "id": "b6e2230f",
   "metadata": {},
   "outputs": [],
   "source": [
    "def astimezone_time(t: time, tz: timezone) -> time:\n",
    "    \"\"\"Convert local time to UTC.\"\"\"\n",
    "    ref_date = date(2000, 1, 1)\n",
    "    dt = datetime.combine(ref_date, t).astimezone(tz)\n",
    "    return dt.time().replace(tzinfo=tz)"
   ]
  },
  {
   "cell_type": "code",
   "execution_count": 59,
   "id": "269e61fa",
   "metadata": {},
   "outputs": [
    {
     "name": "stdout",
     "output_type": "stream",
     "text": [
      "CBTmin start time in LTZ: 04:30:00+05:00\n",
      "CBTmin start time in UTC: 23:30:00+00:00\n",
      "First CBTmin in UTC: 2025-05-31T23:30:00+00:00\n",
      "CBTmin dest time in LTZ: 04:30:00+08:00\n",
      "CBTmin dest time in UTC: 20:30:00+00:00\n"
     ]
    }
   ],
   "source": [
    "# first CBTmin datetime object is combined from the time calculated and from the start date\n",
    "CBTmin_time_start_ltz = sum_time_timedelta(tz1_sleep_stop_ltz, timedelta(hours=-3))\n",
    "print(f\"CBTmin start time in LTZ: {CBTmin_time_start_ltz}\")\n",
    "CBTmin_time_start = astimezone_time(CBTmin_time_start_ltz, timezone.utc)\n",
    "print(f\"CBTmin start time in UTC: {CBTmin_time_start}\")\n",
    "\n",
    "first_CBTmin = datetime.combine(start_date, tz1_sleep_start_ltz, tzinfo=timezone.utc)\n",
    "print(f\"First CBTmin in UTC: {first_CBTmin.isoformat()}\")\n",
    "\n",
    "CBTmin_time_dest_ltz = sum_time_timedelta(tz2_sleep_stop_ltz, timedelta(hours=-3))\n",
    "print(f\"CBTmin dest time in LTZ: {CBTmin_time_dest_ltz}\")\n",
    "CBTmin_time_dest = astimezone_time(CBTmin_time_dest_ltz, timezone.utc)\n",
    "print(f\"CBTmin dest time in UTC: {CBTmin_time_dest}\")"
   ]
  },
  {
   "cell_type": "code",
   "execution_count": null,
   "id": "49b34421",
   "metadata": {},
   "outputs": [],
   "source": [
    "def subtract_times(t1: time, t2: time):\n",
    "    ref_date = date(2000, 1, 1)\n",
    "    dt1 = datetime.combine(ref_date, t1)\n",
    "    dt2 = datetime.combine(ref_date, t2)\n",
    "    return dt1 - dt2"
   ]
  },
  {
   "cell_type": "code",
   "execution_count": 53,
   "id": "7d3ea4c6",
   "metadata": {},
   "outputs": [],
   "source": [
    "def hours_from_timedelta(td: timedelta) -> float:\n",
    "    return td.total_seconds() / 3600.0"
   ]
  },
  {
   "cell_type": "code",
   "execution_count": 65,
   "id": "47ed1b4e",
   "metadata": {},
   "outputs": [
    {
     "name": "stdout",
     "output_type": "stream",
     "text": [
      "Delta CBTmin: -1 day, 21:00:00\n",
      "Delta CBTmin in hours: -3.0\n"
     ]
    }
   ],
   "source": [
    "delta_cbtmin = subtract_times(CBTmin_time_dest, CBTmin_time_start)\n",
    "print(f\"Delta CBTmin: {delta_cbtmin}\")\n",
    "print(f\"Delta CBTmin in hours: {hours_from_timedelta(delta_cbtmin)}\")"
   ]
  },
  {
   "cell_type": "code",
   "execution_count": 91,
   "id": "be64b32a",
   "metadata": {},
   "outputs": [
    {
     "name": "stdout",
     "output_type": "stream",
     "text": [
      "CBTmin at destination is earlier than at origin\n"
     ]
    }
   ],
   "source": [
    "if abs(hours_from_timedelta(delta_cbtmin)) < 3:\n",
    "    print(\"CBTmin times are close enough, no adjustment needed.\")\n",
    "\n",
    "if hours_from_timedelta(delta_cbtmin) > 0:\n",
    "    print(\"CBTmin at destination is later than at origin\")\n",
    "    delay = True\n",
    "else:\n",
    "    print(\"CBTmin at destination is earlier than at origin\")\n",
    "    delay = False\n",
    "    "
   ]
  },
  {
   "cell_type": "code",
   "execution_count": 86,
   "id": "f9573377",
   "metadata": {},
   "outputs": [],
   "source": [
    "# numbers from article, relative to CBTmin\n",
    "melatonin_advance = timedelta(hours=-11.5)\n",
    "melatonin_delay = timedelta(hours=4)\n",
    "\n",
    "light_advance_window = (timedelta(hours=0), timedelta(hours=3))\n",
    "light_delay_window = (timedelta(hours=-3), timedelta(hours=0))\n",
    "                        \n",
    "dark_advance_window = (timedelta(hours=-3), timedelta(hours=0))\n",
    "dark_delay_window = (timedelta(hours=0), timedelta(hours=3))\n",
    "\n",
    "exercise_advance_window = (timedelta(hours=0), timedelta(hours=3))\n",
    "exercise_delay_window = (timedelta(hours=-3), timedelta(hours=0))"
   ]
  },
  {
   "cell_type": "code",
   "execution_count": 87,
   "id": "bfd57413",
   "metadata": {},
   "outputs": [],
   "source": [
    "use_melatonin = True\n",
    "use_light = True\n",
    "use_exercise = True\n",
    "take_melatonin_while_traveling = True\n",
    "light_when_traveling = True\n",
    "exercise_when_traveling = True"
   ]
  },
  {
   "cell_type": "code",
   "execution_count": 88,
   "id": "fff60841",
   "metadata": {},
   "outputs": [
    {
     "name": "stdout",
     "output_type": "stream",
     "text": [
      "Next CBTmin: 2025-06-01T22:30:00+00:00\n",
      "Next CBTmin: 2025-06-02T21:30:00+00:00\n",
      "Total CBTmin times: [datetime.datetime(2025, 5, 31, 23, 30, tzinfo=datetime.timezone.utc), datetime.datetime(2025, 6, 1, 22, 30, tzinfo=datetime.timezone.utc), datetime.datetime(2025, 6, 2, 21, 30, tzinfo=datetime.timezone.utc)]\n"
     ]
    }
   ],
   "source": [
    "CBTmin_times = []\n",
    "\n",
    "a=True\n",
    "i=0\n",
    "while a:\n",
    "    i += 1\n",
    "    if i == 1:\n",
    "        CBTmin_times.append(first_CBTmin)\n",
    "        continue\n",
    "    next_CBTmin = CBTmin_times[-1] + timedelta(hours=24)\n",
    "    if use_melatonin or use_light or use_exercise:\n",
    "        if delay:\n",
    "            next_CBTmin += timedelta(hours=1)\n",
    "        else:\n",
    "            next_CBTmin += timedelta(hours=-1)\n",
    "    else:\n",
    "        next_CBTmin += timedelta(hours=0.5)\n",
    "    CBTmin_times.append(next_CBTmin)\n",
    "    print(f\"Next CBTmin: {next_CBTmin.isoformat()}\")\n",
    "    if timedelta(hours=-0.5) < subtract_times(astimezone_time(next_CBTmin.time(), timezone.utc), CBTmin_time_dest) < timedelta(hours=0.5):\n",
    "        a = False\n",
    "\n",
    "print(f\"Total CBTmin times: {CBTmin_times}\")"
   ]
  },
  {
   "cell_type": "code",
   "execution_count": null,
   "id": "097837d2",
   "metadata": {},
   "outputs": [
    {
     "name": "stdout",
     "output_type": "stream",
     "text": [
      "Melatonin time: 2025-05-31T12:00:00+00:00\n",
      "Melatonin time: 2025-06-01T11:00:00+00:00\n",
      "Melatonin time: 2025-06-02T10:00:00+00:00\n",
      "Light time window: 2025-05-31T23:30:00+00:00 - 2025-06-01T02:30:00+00:00\n",
      "Dark time window: 2025-05-31T20:30:00+00:00 - 2025-05-31T23:30:00+00:00\n",
      "Light time window: 2025-06-01T22:30:00+00:00 - 2025-06-02T01:30:00+00:00\n",
      "Dark time window: 2025-06-01T19:30:00+00:00 - 2025-06-01T22:30:00+00:00\n",
      "Light time window: 2025-06-02T21:30:00+00:00 - 2025-06-03T00:30:00+00:00\n",
      "Dark time window: 2025-06-02T18:30:00+00:00 - 2025-06-02T21:30:00+00:00\n",
      "Exercise time window: 2025-05-31T23:30:00+00:00 - 2025-06-01T02:30:00+00:00\n",
      "Exercise time window: 2025-06-01T22:30:00+00:00 - 2025-06-02T01:30:00+00:00\n",
      "Exercise time window: 2025-06-02T21:30:00+00:00 - 2025-06-03T00:30:00+00:00\n"
     ]
    }
   ],
   "source": [
    "melatonin_times = []\n",
    "light_time_windows= []\n",
    "dark_time_windows = []\n",
    "exercise_time_windows = []\n",
    "\n",
    "if use_melatonin:\n",
    "    for cbt in CBTmin_times:\n",
    "        if delay:\n",
    "            melatonin_time = cbt + melatonin_delay\n",
    "        else:\n",
    "            melatonin_time = cbt + melatonin_advance\n",
    "        #if take_melatonin_while_traveling:\n",
    "        #    pass\n",
    "        melatonin_times.append(melatonin_time)\n",
    "        print(f\"Melatonin time: {melatonin_time.isoformat()}\")\n",
    "        \n",
    "        \n",
    "if use_light:\n",
    "    for cbt in CBTmin_times:\n",
    "        if delay:\n",
    "            light_time_window = (cbt + light_delay_window[0], cbt + light_delay_window[1])\n",
    "            dark_time_window = (cbt + dark_delay_window[0], cbt + dark_delay_window[1])\n",
    "        else:\n",
    "            light_time_window = (cbt + light_advance_window[0], cbt + light_advance_window[1])\n",
    "            dark_time_window = (cbt + dark_advance_window[0], cbt + dark_advance_window[1])\n",
    "        #if light_when_traveling:\n",
    "        #    pass\n",
    "        light_time_windows.append(light_time_window)\n",
    "        dark_time_windows.append(dark_time_window)\n",
    "        print(f\"Light time window: {light_time_window[0].isoformat()} - {light_time_window[1].isoformat()}\")\n",
    "        print(f\"Dark time window: {dark_time_window[0].isoformat()} - {dark_time_window[1].isoformat()}\")\n",
    "        \n",
    "if use_exercise:\n",
    "    for cbt in CBTmin_times:\n",
    "        if delay:\n",
    "            exercise_time_window = (cbt + exercise_delay_window[0], cbt + exercise_delay_window[1])\n",
    "        else:\n",
    "            exercise_time_window = (cbt + exercise_advance_window[0], cbt + exercise_advance_window[1])\n",
    "        #if exercise_when_traveling:\n",
    "        #    pass\n",
    "        exercise_time_windows.append(exercise_time_window)\n",
    "        print(f\"Exercise time window: {exercise_time_window[0].isoformat()} - {exercise_time_window[1].isoformat()}\")"
   ]
  },
  {
   "cell_type": "code",
   "execution_count": null,
   "id": "1cb3dd0b",
   "metadata": {},
   "outputs": [],
   "source": []
  }
 ],
 "metadata": {
  "kernelspec": {
   "display_name": ".venv",
   "language": "python",
   "name": "python3"
  },
  "language_info": {
   "codemirror_mode": {
    "name": "ipython",
    "version": 3
   },
   "file_extension": ".py",
   "mimetype": "text/x-python",
   "name": "python",
   "nbconvert_exporter": "python",
   "pygments_lexer": "ipython3",
   "version": "3.13.2"
  }
 },
 "nbformat": 4,
 "nbformat_minor": 5
}
